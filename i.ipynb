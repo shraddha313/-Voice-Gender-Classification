{
 "cells": [
  {
   "cell_type": "code",
   "execution_count": 1,
   "metadata": {},
   "outputs": [
    {
     "name": "stdout",
     "output_type": "stream",
     "text": [
      "torch.Size([40])\n"
     ]
    }
   ],
   "source": [
    "import torch \n",
    "\n",
    "features= torch.load('17.pt')\n",
    "\n",
    "feat= features.size()\n",
    "print(feat)"
   ]
  },
  {
   "cell_type": "code",
   "execution_count": 4,
   "metadata": {},
   "outputs": [
    {
     "name": "stdout",
     "output_type": "stream",
     "text": [
      "torch.Size([293])\n"
     ]
    }
   ],
   "source": [
    "import torch \n",
    "\n",
    "features= torch.load('1_mfmgdcc.pt')\n",
    "\n",
    "feat= features.size()\n",
    "print(feat)"
   ]
  },
  {
   "cell_type": "code",
   "execution_count": 5,
   "metadata": {},
   "outputs": [
    {
     "name": "stdout",
     "output_type": "stream",
     "text": [
      "torch.Size([609])\n"
     ]
    }
   ],
   "source": [
    "import torch \n",
    "\n",
    "features= torch.load('2_mfmgdcc.pt')\n",
    "\n",
    "feat= features.size()\n",
    "print(feat)"
   ]
  },
  {
   "cell_type": "code",
   "execution_count": 2,
   "metadata": {},
   "outputs": [
    {
     "name": "stdout",
     "output_type": "stream",
     "text": [
      "Collecting sounddevice\n",
      "  Downloading sounddevice-0.4.6-py3-none-win_amd64.whl (199 kB)\n",
      "                                              0.0/199.7 kB ? eta -:--:--\n",
      "     ---------------------                  112.6/199.7 kB 3.3 MB/s eta 0:00:01\n",
      "     -------------------------------------- 199.7/199.7 kB 3.1 MB/s eta 0:00:00\n",
      "Requirement already satisfied: CFFI>=1.0 in c:\\users\\dell\\appdata\\local\\programs\\python\\python39\\lib\\site-packages (from sounddevice) (1.15.1)\n",
      "Requirement already satisfied: pycparser in c:\\users\\dell\\appdata\\local\\programs\\python\\python39\\lib\\site-packages (from CFFI>=1.0->sounddevice) (2.21)\n",
      "Installing collected packages: sounddevice\n",
      "Successfully installed sounddevice-0.4.6\n",
      "Note: you may need to restart the kernel to use updated packages.\n"
     ]
    },
    {
     "name": "stderr",
     "output_type": "stream",
     "text": [
      "WARNING: Ignoring invalid distribution -ensorflow-intel (c:\\users\\dell\\appdata\\local\\programs\\python\\python39\\lib\\site-packages)\n",
      "WARNING: Ignoring invalid distribution -ensorflow-intel (c:\\users\\dell\\appdata\\local\\programs\\python\\python39\\lib\\site-packages)\n"
     ]
    }
   ],
   "source": [
    "pip install sounddevice\n"
   ]
  },
  {
   "cell_type": "code",
   "execution_count": 8,
   "metadata": {},
   "outputs": [
    {
     "name": "stdout",
     "output_type": "stream",
     "text": [
      "recording\n",
      "able to execute this before finishing\n",
      "0\n",
      "1\n",
      "2\n",
      "3\n",
      "4\n",
      "5\n",
      "6\n",
      "7\n",
      "8\n",
      "9\n",
      "10\n",
      "11\n",
      "12\n",
      "13\n",
      "14\n",
      "15\n",
      "16\n",
      "17\n",
      "18\n",
      "19\n",
      "20\n",
      "21\n",
      "22\n",
      "23\n",
      "24\n",
      "25\n",
      "26\n",
      "27\n",
      "28\n",
      "29\n",
      "done recording\n"
     ]
    }
   ],
   "source": [
    "import sounddevice as sd\n",
    "import soundfile as sf\n",
    "import time \n",
    "\n",
    "def printstuff(number):\n",
    "    for i in range(number):\n",
    "         print(i)\n",
    "\n",
    "def async_record(filename, duration, fs, channels):\n",
    "    print('recording')\n",
    "    myrecording = sd.rec(int(duration * fs), samplerate=fs, channels=channels)\n",
    "    # can execute commands \n",
    "    print('able to execute this before finishing')\n",
    "    printstuff(30)\n",
    "    # now wait until done before writing to file \n",
    "    sd.wait()\n",
    "    sf.write(filename, myrecording, fs)\n",
    "    print('done recording')\n",
    "\n",
    "# playback file \n",
    "async_record('14.wav', 10, 16000, 1)"
   ]
  },
  {
   "cell_type": "code",
   "execution_count": 11,
   "metadata": {},
   "outputs": [
    {
     "name": "stdout",
     "output_type": "stream",
     "text": [
      "Collecting ffmpy\n",
      "  Downloading ffmpy-0.3.0.tar.gz (4.8 kB)\n",
      "  Preparing metadata (setup.py): started\n",
      "  Preparing metadata (setup.py): finished with status 'done'\n",
      "Building wheels for collected packages: ffmpy\n",
      "  Building wheel for ffmpy (setup.py): started\n",
      "  Building wheel for ffmpy (setup.py): finished with status 'done'\n",
      "  Created wheel for ffmpy: filename=ffmpy-0.3.0-py3-none-any.whl size=4714 sha256=e7f983ac1bf24d06464117753d3f6a13197acb7aafc3191ec849a5077911192b\n",
      "  Stored in directory: c:\\users\\dell\\appdata\\local\\pip\\cache\\wheels\\91\\e2\\96\\f676aa08bfd789328c6576cd0f1fde4a3d686703bb0c247697\n",
      "Successfully built ffmpy\n",
      "Installing collected packages: ffmpy\n",
      "Successfully installed ffmpy-0.3.0\n"
     ]
    },
    {
     "name": "stderr",
     "output_type": "stream",
     "text": [
      "WARNING: Ignoring invalid distribution -ensorflow-intel (c:\\users\\dell\\appdata\\local\\programs\\python\\python39\\lib\\site-packages)\n",
      "WARNING: Ignoring invalid distribution -ensorflow-intel (c:\\users\\dell\\appdata\\local\\programs\\python\\python39\\lib\\site-packages)\n"
     ]
    }
   ],
   "source": [
    "! pip install ffmpy"
   ]
  },
  {
   "cell_type": "code",
   "execution_count": 14,
   "metadata": {},
   "outputs": [
    {
     "name": "stdout",
     "output_type": "stream",
     "text": [
      "Collecting FFmpeg\n",
      "  Downloading ffmpeg-1.4.tar.gz (5.1 kB)\n",
      "  Preparing metadata (setup.py): started\n",
      "  Preparing metadata (setup.py): finished with status 'done'\n",
      "Building wheels for collected packages: FFmpeg\n",
      "  Building wheel for FFmpeg (setup.py): started\n",
      "  Building wheel for FFmpeg (setup.py): finished with status 'done'\n",
      "  Created wheel for FFmpeg: filename=ffmpeg-1.4-py3-none-any.whl size=6090 sha256=c98ac27ccc33e1365a70b70eb46c6511ab82e8e7f51d466077e87e5aa48085b4\n",
      "  Stored in directory: c:\\users\\dell\\appdata\\local\\pip\\cache\\wheels\\1d\\57\\24\\4eff6a03a9ea0e647568e8a5a0546cdf957e3cf005372c0245\n",
      "Successfully built FFmpeg\n",
      "Installing collected packages: FFmpeg\n",
      "Successfully installed FFmpeg-1.4\n",
      "Note: you may need to restart the kernel to use updated packages.\n"
     ]
    },
    {
     "name": "stderr",
     "output_type": "stream",
     "text": [
      "WARNING: Ignoring invalid distribution -ensorflow-intel (c:\\users\\dell\\appdata\\local\\programs\\python\\python39\\lib\\site-packages)\n",
      "WARNING: Ignoring invalid distribution -ensorflow-intel (c:\\users\\dell\\appdata\\local\\programs\\python\\python39\\lib\\site-packages)\n"
     ]
    }
   ],
   "source": [
    "pip install FFmpeg"
   ]
  },
  {
   "cell_type": "code",
   "execution_count": 17,
   "metadata": {},
   "outputs": [],
   "source": [
    "import ffmpy\n",
    "from ffmpy import FFmpeg"
   ]
  },
  {
   "cell_type": "code",
   "execution_count": 20,
   "metadata": {},
   "outputs": [
    {
     "name": "stdout",
     "output_type": "stream",
     "text": [
      "Requirement already satisfied: pydub in c:\\users\\dell\\appdata\\local\\programs\\python\\python39\\lib\\site-packages (0.25.1)\n",
      "Note: you may need to restart the kernel to use updated packages.\n"
     ]
    },
    {
     "name": "stderr",
     "output_type": "stream",
     "text": [
      "WARNING: Ignoring invalid distribution -ensorflow-intel (c:\\users\\dell\\appdata\\local\\programs\\python\\python39\\lib\\site-packages)\n",
      "WARNING: Ignoring invalid distribution -ensorflow-intel (c:\\users\\dell\\appdata\\local\\programs\\python\\python39\\lib\\site-packages)\n"
     ]
    }
   ],
   "source": [
    "pip install pydub\n"
   ]
  },
  {
   "cell_type": "code",
   "execution_count": 23,
   "metadata": {},
   "outputs": [],
   "source": [
    "from pydub import AudioSegment\n",
    "\n",
    "def convert_audio_to_wav(filename):\n",
    "    # Determine the file extension\n",
    "    extension = filename.split('.')[-1]\n",
    "\n",
    "    if extension in ['mp3', 'm4a', 'ogg', 'wav']:\n",
    "        # Read the audio file\n",
    "        audio = AudioSegment.from_file(filename, format=extension)\n",
    "\n",
    "        # Export as wav\n",
    "        audio.export(filename[:-len(extension)]+'wav', format='wav')\n",
    "    else:\n",
    "        print('Invalid file format!')\n",
    "\n",
    "convert_audio_to_wav('0.m4a')  # Replace with your filename\n"
   ]
  },
  {
   "cell_type": "code",
   "execution_count": 27,
   "metadata": {},
   "outputs": [],
   "source": [
    "from pydub import AudioSegment\n",
    "\n",
    "def convert_audio_to_wav(filename):\n",
    "    # Determine the file extension\n",
    "    extension = filename.split('.')[-1]\n",
    "\n",
    "    if extension in ['mp3', 'm4a', 'ogg', 'wav']:\n",
    "        # Read the audio file\n",
    "        audio = AudioSegment.from_file(filename, format=extension)\n",
    "\n",
    "        # Export as wav\n",
    "        audio.export(filename[:-len(extension)]+'mp3', format='mp3')\n",
    "    else:\n",
    "        print('Invalid file format!')\n",
    "\n",
    "convert_audio_to_wav('0.m4a')  # Replace with your filename\n"
   ]
  },
  {
   "cell_type": "code",
   "execution_count": 25,
   "metadata": {},
   "outputs": [
    {
     "name": "stdout",
     "output_type": "stream",
     "text": [
      "Collecting moviepy\n",
      "  Downloading moviepy-1.0.3.tar.gz (388 kB)\n",
      "                                              0.0/388.3 kB ? eta -:--:--\n",
      "     ----------------------------           286.7/388.3 kB 6.0 MB/s eta 0:00:01\n",
      "     -------------------------------------- 388.3/388.3 kB 6.1 MB/s eta 0:00:00\n",
      "  Preparing metadata (setup.py): started\n",
      "  Preparing metadata (setup.py): finished with status 'done'\n",
      "Collecting decorator<5.0,>=4.0.2 (from moviepy)\n",
      "  Downloading decorator-4.4.2-py2.py3-none-any.whl (9.2 kB)\n",
      "Requirement already satisfied: tqdm<5.0,>=4.11.2 in c:\\users\\dell\\appdata\\local\\programs\\python\\python39\\lib\\site-packages (from moviepy) (4.65.0)\n",
      "Requirement already satisfied: requests<3.0,>=2.8.1 in c:\\users\\dell\\appdata\\local\\programs\\python\\python39\\lib\\site-packages (from moviepy) (2.28.2)\n",
      "Collecting proglog<=1.0.0 (from moviepy)\n",
      "  Downloading proglog-0.1.10-py3-none-any.whl (6.1 kB)\n",
      "Requirement already satisfied: numpy>=1.17.3 in c:\\users\\dell\\appdata\\local\\programs\\python\\python39\\lib\\site-packages (from moviepy) (1.23.5)\n",
      "Requirement already satisfied: imageio<3.0,>=2.5 in c:\\users\\dell\\appdata\\local\\programs\\python\\python39\\lib\\site-packages (from moviepy) (2.31.1)\n",
      "Collecting imageio_ffmpeg>=0.2.0 (from moviepy)\n",
      "  Downloading imageio_ffmpeg-0.4.8-py3-none-win_amd64.whl (22.6 MB)\n",
      "                                              0.0/22.6 MB ? eta -:--:--\n",
      "                                              0.5/22.6 MB 13.8 MB/s eta 0:00:02\n",
      "     -                                        0.8/22.6 MB 10.4 MB/s eta 0:00:03\n",
      "     --                                       1.3/22.6 MB 9.3 MB/s eta 0:00:03\n",
      "     ---                                      1.7/22.6 MB 9.8 MB/s eta 0:00:03\n",
      "     ---                                      2.2/22.6 MB 9.8 MB/s eta 0:00:03\n",
      "     ----                                     2.6/22.6 MB 10.3 MB/s eta 0:00:02\n",
      "     -----                                    3.0/22.6 MB 9.7 MB/s eta 0:00:03\n",
      "     ------                                   3.4/22.6 MB 9.9 MB/s eta 0:00:02\n",
      "     ------                                   3.8/22.6 MB 9.7 MB/s eta 0:00:02\n",
      "     -------                                  4.2/22.6 MB 9.7 MB/s eta 0:00:02\n",
      "     --------                                 4.7/22.6 MB 9.7 MB/s eta 0:00:02\n",
      "     ---------                                5.1/22.6 MB 9.9 MB/s eta 0:00:02\n",
      "     ---------                                5.6/22.6 MB 9.9 MB/s eta 0:00:02\n",
      "     ----------                               6.0/22.6 MB 9.7 MB/s eta 0:00:02\n",
      "     -----------                              6.5/22.6 MB 9.7 MB/s eta 0:00:02\n",
      "     ------------                             7.0/22.6 MB 9.7 MB/s eta 0:00:02\n",
      "     -------------                            7.4/22.6 MB 9.7 MB/s eta 0:00:02\n",
      "     -------------                            7.8/22.6 MB 9.8 MB/s eta 0:00:02\n",
      "     --------------                           8.3/22.6 MB 9.8 MB/s eta 0:00:02\n",
      "     ---------------                          8.7/22.6 MB 9.7 MB/s eta 0:00:02\n",
      "     ----------------                         9.1/22.6 MB 9.7 MB/s eta 0:00:02\n",
      "     ----------------                         9.6/22.6 MB 9.7 MB/s eta 0:00:02\n",
      "     -----------------                        10.0/22.6 MB 9.7 MB/s eta 0:00:02\n",
      "     ------------------                       10.5/22.6 MB 9.6 MB/s eta 0:00:02\n",
      "     -------------------                      11.0/22.6 MB 9.6 MB/s eta 0:00:02\n",
      "     --------------------                     11.4/22.6 MB 9.6 MB/s eta 0:00:02\n",
      "     ---------------------                    11.9/22.6 MB 9.8 MB/s eta 0:00:02\n",
      "     ---------------------                    12.3/22.6 MB 9.6 MB/s eta 0:00:02\n",
      "     ----------------------                   12.8/22.6 MB 9.6 MB/s eta 0:00:02\n",
      "     -----------------------                  13.3/22.6 MB 9.8 MB/s eta 0:00:01\n",
      "     ------------------------                 13.7/22.6 MB 9.8 MB/s eta 0:00:01\n",
      "     ------------------------                 14.1/22.6 MB 9.6 MB/s eta 0:00:01\n",
      "     -------------------------                14.6/22.6 MB 9.6 MB/s eta 0:00:01\n",
      "     --------------------------               15.0/22.6 MB 9.6 MB/s eta 0:00:01\n",
      "     ---------------------------              15.3/22.6 MB 9.6 MB/s eta 0:00:01\n",
      "     ---------------------------              15.8/22.6 MB 9.6 MB/s eta 0:00:01\n",
      "     ----------------------------             16.3/22.6 MB 9.8 MB/s eta 0:00:01\n",
      "     -----------------------------            16.7/22.6 MB 9.8 MB/s eta 0:00:01\n",
      "     ------------------------------           17.1/22.6 MB 9.6 MB/s eta 0:00:01\n",
      "     -------------------------------          17.6/22.6 MB 9.6 MB/s eta 0:00:01\n",
      "     -------------------------------          18.1/22.6 MB 9.5 MB/s eta 0:00:01\n",
      "     --------------------------------         18.5/22.6 MB 9.8 MB/s eta 0:00:01\n",
      "     ---------------------------------        19.0/22.6 MB 9.8 MB/s eta 0:00:01\n",
      "     ----------------------------------       19.5/22.6 MB 9.6 MB/s eta 0:00:01\n",
      "     -----------------------------------      19.8/22.6 MB 9.6 MB/s eta 0:00:01\n",
      "     -----------------------------------      20.3/22.6 MB 9.6 MB/s eta 0:00:01\n",
      "     ------------------------------------     20.8/22.6 MB 9.8 MB/s eta 0:00:01\n",
      "     -------------------------------------    21.2/22.6 MB 9.6 MB/s eta 0:00:01\n",
      "     --------------------------------------   21.6/22.6 MB 9.6 MB/s eta 0:00:01\n",
      "     ---------------------------------------  22.1/22.6 MB 9.6 MB/s eta 0:00:01\n",
      "     ---------------------------------------  22.5/22.6 MB 9.6 MB/s eta 0:00:01\n",
      "     ---------------------------------------  22.6/22.6 MB 9.6 MB/s eta 0:00:01\n",
      "     ---------------------------------------  22.6/22.6 MB 9.6 MB/s eta 0:00:01\n",
      "     ---------------------------------------- 22.6/22.6 MB 8.8 MB/s eta 0:00:00\n",
      "Requirement already satisfied: pillow>=8.3.2 in c:\\users\\dell\\appdata\\local\\programs\\python\\python39\\lib\\site-packages (from imageio<3.0,>=2.5->moviepy) (9.4.0)\n",
      "Requirement already satisfied: charset-normalizer<4,>=2 in c:\\users\\dell\\appdata\\local\\programs\\python\\python39\\lib\\site-packages (from requests<3.0,>=2.8.1->moviepy) (3.0.1)\n",
      "Requirement already satisfied: idna<4,>=2.5 in c:\\users\\dell\\appdata\\local\\programs\\python\\python39\\lib\\site-packages (from requests<3.0,>=2.8.1->moviepy) (3.4)\n",
      "Requirement already satisfied: urllib3<1.27,>=1.21.1 in c:\\users\\dell\\appdata\\local\\programs\\python\\python39\\lib\\site-packages (from requests<3.0,>=2.8.1->moviepy) (1.26.14)\n",
      "Requirement already satisfied: certifi>=2017.4.17 in c:\\users\\dell\\appdata\\local\\programs\\python\\python39\\lib\\site-packages (from requests<3.0,>=2.8.1->moviepy) (2022.12.7)\n",
      "Requirement already satisfied: colorama in c:\\users\\dell\\appdata\\local\\programs\\python\\python39\\lib\\site-packages (from tqdm<5.0,>=4.11.2->moviepy) (0.4.6)\n",
      "Building wheels for collected packages: moviepy\n",
      "  Building wheel for moviepy (setup.py): started\n",
      "  Building wheel for moviepy (setup.py): finished with status 'done'\n",
      "  Created wheel for moviepy: filename=moviepy-1.0.3-py3-none-any.whl size=110773 sha256=fda9787c67108619827722c6ba4d21d7d0c0898f26c22a385674d70e76580df9\n",
      "  Stored in directory: c:\\users\\dell\\appdata\\local\\pip\\cache\\wheels\\29\\15\\e4\\4f790bec6acd51a00b67e8ee1394f0bc6e0135c315f8ff399a\n",
      "Successfully built moviepy\n",
      "Installing collected packages: imageio_ffmpeg, decorator, proglog, moviepy\n",
      "  Attempting uninstall: decorator\n",
      "    Found existing installation: decorator 5.1.1\n",
      "    Uninstalling decorator-5.1.1:\n",
      "      Successfully uninstalled decorator-5.1.1\n",
      "Successfully installed decorator-4.4.2 imageio_ffmpeg-0.4.8 moviepy-1.0.3 proglog-0.1.10\n"
     ]
    },
    {
     "name": "stderr",
     "output_type": "stream",
     "text": [
      "WARNING: Ignoring invalid distribution -ensorflow-intel (c:\\users\\dell\\appdata\\local\\programs\\python\\python39\\lib\\site-packages)\n",
      "WARNING: Ignoring invalid distribution -ensorflow-intel (c:\\users\\dell\\appdata\\local\\programs\\python\\python39\\lib\\site-packages)\n"
     ]
    }
   ],
   "source": [
    "! pip install moviepy"
   ]
  },
  {
   "cell_type": "code",
   "execution_count": 26,
   "metadata": {},
   "outputs": [
    {
     "name": "stdout",
     "output_type": "stream",
     "text": [
      "MoviePy - Writing audio in output.ogg\n"
     ]
    },
    {
     "name": "stderr",
     "output_type": "stream",
     "text": [
      "                                                                   "
     ]
    },
    {
     "name": "stdout",
     "output_type": "stream",
     "text": [
      "MoviePy - Done.\n"
     ]
    },
    {
     "name": "stderr",
     "output_type": "stream",
     "text": [
      "\r"
     ]
    }
   ],
   "source": [
    "from moviepy.editor import *\n",
    "\n",
    "audio = AudioFileClip(\"0.m4a\")\n",
    "audio.write_audiofile(\"output.ogg\")\n"
   ]
  },
  {
   "cell_type": "code",
   "execution_count": 33,
   "metadata": {},
   "outputs": [
    {
     "name": "stdout",
     "output_type": "stream",
     "text": [
      "Video duration: 14.4\n",
      "Video fps: 14.99\n",
      "Audio duration: 10.0\n",
      "Audio fps: 44100\n"
     ]
    }
   ],
   "source": [
    "from moviepy.editor import VideoFileClip, AudioFileClip\n",
    "\n",
    "video = VideoFileClip(\"video.mp4\")\n",
    "audio = AudioFileClip(\"11.wav\")\n",
    "\n",
    "print(\"Video duration:\", video.duration)\n",
    "print(\"Video fps:\", video.fps)\n",
    "print(\"Audio duration:\", audio.duration)\n",
    "print(\"Audio fps:\", audio.fps)\n"
   ]
  },
  {
   "cell_type": "code",
   "execution_count": 36,
   "metadata": {},
   "outputs": [
    {
     "name": "stdout",
     "output_type": "stream",
     "text": [
      "Requirement already satisfied: pydub in c:\\users\\dell\\appdata\\local\\programs\\python\\python39\\lib\\site-packages (0.25.1)\n",
      "Requirement already satisfied: numpy in c:\\users\\dell\\appdata\\local\\programs\\python\\python39\\lib\\site-packages (1.23.5)\n",
      "Requirement already satisfied: imageio in c:\\users\\dell\\appdata\\local\\programs\\python\\python39\\lib\\site-packages (2.31.1)\n",
      "Requirement already satisfied: pillow>=8.3.2 in c:\\users\\dell\\appdata\\local\\programs\\python\\python39\\lib\\site-packages (from imageio) (9.4.0)\n",
      "Note: you may need to restart the kernel to use updated packages.\n"
     ]
    },
    {
     "name": "stderr",
     "output_type": "stream",
     "text": [
      "WARNING: Ignoring invalid distribution -ensorflow-intel (c:\\users\\dell\\appdata\\local\\programs\\python\\python39\\lib\\site-packages)\n",
      "WARNING: Ignoring invalid distribution -ensorflow-intel (c:\\users\\dell\\appdata\\local\\programs\\python\\python39\\lib\\site-packages)\n"
     ]
    }
   ],
   "source": [
    "pip install pydub numpy imageio\n"
   ]
  },
  {
   "cell_type": "code",
   "execution_count": 37,
   "metadata": {},
   "outputs": [],
   "source": [
    "from pydub import AudioSegment\n",
    "import numpy as np\n",
    "import imageio\n",
    "import imageio_ffmpeg as ffmpeg\n",
    "from moviepy.editor import VideoFileClip"
   ]
  },
  {
   "cell_type": "code",
   "execution_count": 40,
   "metadata": {},
   "outputs": [
    {
     "name": "stdout",
     "output_type": "stream",
     "text": [
      "Requirement already satisfied: imageio in c:\\users\\dell\\appdata\\local\\programs\\python\\python39\\lib\\site-packages (2.31.1)\n",
      "Requirement already satisfied: numpy in c:\\users\\dell\\appdata\\local\\programs\\python\\python39\\lib\\site-packages (from imageio) (1.23.5)\n",
      "Requirement already satisfied: pillow>=8.3.2 in c:\\users\\dell\\appdata\\local\\programs\\python\\python39\\lib\\site-packages (from imageio) (9.4.0)\n"
     ]
    },
    {
     "name": "stderr",
     "output_type": "stream",
     "text": [
      "WARNING: Ignoring invalid distribution -ensorflow-intel (c:\\users\\dell\\appdata\\local\\programs\\python\\python39\\lib\\site-packages)\n",
      "WARNING: Ignoring invalid distribution -ensorflow-intel (c:\\users\\dell\\appdata\\local\\programs\\python\\python39\\lib\\site-packages)\n"
     ]
    },
    {
     "name": "stdout",
     "output_type": "stream",
     "text": [
      "Requirement already satisfied: imageio-ffmpeg in c:\\users\\dell\\appdata\\local\\programs\\python\\python39\\lib\\site-packages (0.4.8)\n"
     ]
    },
    {
     "name": "stderr",
     "output_type": "stream",
     "text": [
      "WARNING: Ignoring invalid distribution -ensorflow-intel (c:\\users\\dell\\appdata\\local\\programs\\python\\python39\\lib\\site-packages)\n",
      "WARNING: Ignoring invalid distribution -ensorflow-intel (c:\\users\\dell\\appdata\\local\\programs\\python\\python39\\lib\\site-packages)\n"
     ]
    }
   ],
   "source": [
    "! pip install --upgrade imageio\n",
    "! pip install --upgrade imageio-ffmpeg\n"
   ]
  }
 ],
 "metadata": {
  "kernelspec": {
   "display_name": "Python 3",
   "language": "python",
   "name": "python3"
  },
  "language_info": {
   "codemirror_mode": {
    "name": "ipython",
    "version": 3
   },
   "file_extension": ".py",
   "mimetype": "text/x-python",
   "name": "python",
   "nbconvert_exporter": "python",
   "pygments_lexer": "ipython3",
   "version": "3.9.11"
  },
  "orig_nbformat": 4
 },
 "nbformat": 4,
 "nbformat_minor": 2
}
